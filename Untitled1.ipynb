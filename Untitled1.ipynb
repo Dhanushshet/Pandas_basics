{
 "cells": [
  {
   "cell_type": "code",
   "execution_count": 1,
   "id": "076cbcf2",
   "metadata": {},
   "outputs": [],
   "source": [
    "import pandas as pd"
   ]
  },
  {
   "cell_type": "code",
   "execution_count": 2,
   "id": "b9fb305b",
   "metadata": {},
   "outputs": [
    {
     "data": {
      "text/plain": [
       "'Client-Data.csv'"
      ]
     },
     "execution_count": 2,
     "metadata": {},
     "output_type": "execute_result"
    }
   ],
   "source": [
    "file_path =\"Client-Data.csv\"\n",
    "file_path"
   ]
  },
  {
   "cell_type": "code",
   "execution_count": 3,
   "id": "223d63ee",
   "metadata": {},
   "outputs": [
    {
     "name": "stdout",
     "output_type": "stream",
     "text": [
      "      Name  Age     Sex age_group   Location\n",
      "0  Dhanush   25    Male     minor  Bengaluru\n",
      "1    Rohan   20    Male    Junior   New York\n",
      "2     Riya   32  Female     adult     Mumbai\n",
      "3    Virat   30    Male    middle      Delhi\n",
      "4    Sonam   40  Female    senior       Pune\n"
     ]
    }
   ],
   "source": [
    "df=pd.read_csv(file_path)\n",
    "print(df.head())"
   ]
  },
  {
   "cell_type": "code",
   "execution_count": 4,
   "id": "c89353c4",
   "metadata": {},
   "outputs": [
    {
     "name": "stdout",
     "output_type": "stream",
     "text": [
      "      Name  Age     Sex age_group   Location\n",
      "1  Dhanush   25    Male     minor  Bengaluru\n",
      "2    Rohan   20    Male    Junior   New York\n",
      "3     Riya   32  Female     adult     Mumbai\n",
      "4    Virat   30    Male    middle      Delhi\n",
      "5    Sonam   40  Female    senior       Pune\n"
     ]
    }
   ],
   "source": [
    "df.index=pd.RangeIndex(start=1, stop=len(df)+1, step=1)\n",
    "print(df.head())"
   ]
  },
  {
   "cell_type": "code",
   "execution_count": 5,
   "id": "3c8a6510",
   "metadata": {},
   "outputs": [],
   "source": [
    "df=df.drop(columns=['age_group'],inplace=False)\n"
   ]
  },
  {
   "cell_type": "code",
   "execution_count": 6,
   "id": "d1407b44",
   "metadata": {},
   "outputs": [
    {
     "data": {
      "text/plain": [
       "Index(['Name', 'Age', 'Sex', 'Location'], dtype='object')"
      ]
     },
     "execution_count": 6,
     "metadata": {},
     "output_type": "execute_result"
    }
   ],
   "source": [
    "df.columns"
   ]
  },
  {
   "cell_type": "code",
   "execution_count": 7,
   "id": "ac7a9440",
   "metadata": {},
   "outputs": [],
   "source": [
    "df.drop(columns=['Location'],inplace=True)"
   ]
  },
  {
   "cell_type": "code",
   "execution_count": 8,
   "id": "e58f6bfb",
   "metadata": {},
   "outputs": [
    {
     "data": {
      "text/html": [
       "<div>\n",
       "<style scoped>\n",
       "    .dataframe tbody tr th:only-of-type {\n",
       "        vertical-align: middle;\n",
       "    }\n",
       "\n",
       "    .dataframe tbody tr th {\n",
       "        vertical-align: top;\n",
       "    }\n",
       "\n",
       "    .dataframe thead th {\n",
       "        text-align: right;\n",
       "    }\n",
       "</style>\n",
       "<table border=\"1\" class=\"dataframe\">\n",
       "  <thead>\n",
       "    <tr style=\"text-align: right;\">\n",
       "      <th></th>\n",
       "      <th>Name</th>\n",
       "      <th>Age</th>\n",
       "      <th>Sex</th>\n",
       "    </tr>\n",
       "  </thead>\n",
       "  <tbody>\n",
       "    <tr>\n",
       "      <th>1</th>\n",
       "      <td>Dhanush</td>\n",
       "      <td>25</td>\n",
       "      <td>Male</td>\n",
       "    </tr>\n",
       "    <tr>\n",
       "      <th>2</th>\n",
       "      <td>Rohan</td>\n",
       "      <td>20</td>\n",
       "      <td>Male</td>\n",
       "    </tr>\n",
       "    <tr>\n",
       "      <th>3</th>\n",
       "      <td>Riya</td>\n",
       "      <td>32</td>\n",
       "      <td>Female</td>\n",
       "    </tr>\n",
       "    <tr>\n",
       "      <th>4</th>\n",
       "      <td>Virat</td>\n",
       "      <td>30</td>\n",
       "      <td>Male</td>\n",
       "    </tr>\n",
       "    <tr>\n",
       "      <th>5</th>\n",
       "      <td>Sonam</td>\n",
       "      <td>40</td>\n",
       "      <td>Female</td>\n",
       "    </tr>\n",
       "  </tbody>\n",
       "</table>\n",
       "</div>"
      ],
      "text/plain": [
       "      Name  Age     Sex\n",
       "1  Dhanush   25    Male\n",
       "2    Rohan   20    Male\n",
       "3     Riya   32  Female\n",
       "4    Virat   30    Male\n",
       "5    Sonam   40  Female"
      ]
     },
     "execution_count": 8,
     "metadata": {},
     "output_type": "execute_result"
    }
   ],
   "source": [
    "df.head()"
   ]
  },
  {
   "cell_type": "code",
   "execution_count": 9,
   "id": "0743ba1b",
   "metadata": {},
   "outputs": [],
   "source": [
    "def addition(row):\n",
    "    if (row['Age']>20 and row['Age']<=25):\n",
    "        return 'Minor'\n",
    "    elif (row['Age']>25 and row['Age']<32):\n",
    "        return 'Middle'\n",
    "    else:\n",
    "        return 'Above-Aged'"
   ]
  },
  {
   "cell_type": "code",
   "execution_count": 10,
   "id": "1a93afee",
   "metadata": {},
   "outputs": [],
   "source": [
    "df['category']=df.apply(addition,axis=1)"
   ]
  },
  {
   "cell_type": "code",
   "execution_count": 11,
   "id": "942cee1d",
   "metadata": {},
   "outputs": [
    {
     "data": {
      "text/html": [
       "<div>\n",
       "<style scoped>\n",
       "    .dataframe tbody tr th:only-of-type {\n",
       "        vertical-align: middle;\n",
       "    }\n",
       "\n",
       "    .dataframe tbody tr th {\n",
       "        vertical-align: top;\n",
       "    }\n",
       "\n",
       "    .dataframe thead th {\n",
       "        text-align: right;\n",
       "    }\n",
       "</style>\n",
       "<table border=\"1\" class=\"dataframe\">\n",
       "  <thead>\n",
       "    <tr style=\"text-align: right;\">\n",
       "      <th></th>\n",
       "      <th>Name</th>\n",
       "      <th>Age</th>\n",
       "      <th>Sex</th>\n",
       "      <th>category</th>\n",
       "    </tr>\n",
       "  </thead>\n",
       "  <tbody>\n",
       "    <tr>\n",
       "      <th>1</th>\n",
       "      <td>Dhanush</td>\n",
       "      <td>25</td>\n",
       "      <td>Male</td>\n",
       "      <td>Minor</td>\n",
       "    </tr>\n",
       "    <tr>\n",
       "      <th>2</th>\n",
       "      <td>Rohan</td>\n",
       "      <td>20</td>\n",
       "      <td>Male</td>\n",
       "      <td>Above-Aged</td>\n",
       "    </tr>\n",
       "    <tr>\n",
       "      <th>3</th>\n",
       "      <td>Riya</td>\n",
       "      <td>32</td>\n",
       "      <td>Female</td>\n",
       "      <td>Above-Aged</td>\n",
       "    </tr>\n",
       "    <tr>\n",
       "      <th>4</th>\n",
       "      <td>Virat</td>\n",
       "      <td>30</td>\n",
       "      <td>Male</td>\n",
       "      <td>Middle</td>\n",
       "    </tr>\n",
       "    <tr>\n",
       "      <th>5</th>\n",
       "      <td>Sonam</td>\n",
       "      <td>40</td>\n",
       "      <td>Female</td>\n",
       "      <td>Above-Aged</td>\n",
       "    </tr>\n",
       "  </tbody>\n",
       "</table>\n",
       "</div>"
      ],
      "text/plain": [
       "      Name  Age     Sex    category\n",
       "1  Dhanush   25    Male       Minor\n",
       "2    Rohan   20    Male  Above-Aged\n",
       "3     Riya   32  Female  Above-Aged\n",
       "4    Virat   30    Male      Middle\n",
       "5    Sonam   40  Female  Above-Aged"
      ]
     },
     "execution_count": 11,
     "metadata": {},
     "output_type": "execute_result"
    }
   ],
   "source": [
    "df.head()"
   ]
  },
  {
   "cell_type": "code",
   "execution_count": 12,
   "id": "de27a2be",
   "metadata": {},
   "outputs": [
    {
     "data": {
      "text/html": [
       "<div>\n",
       "<style scoped>\n",
       "    .dataframe tbody tr th:only-of-type {\n",
       "        vertical-align: middle;\n",
       "    }\n",
       "\n",
       "    .dataframe tbody tr th {\n",
       "        vertical-align: top;\n",
       "    }\n",
       "\n",
       "    .dataframe thead th {\n",
       "        text-align: right;\n",
       "    }\n",
       "</style>\n",
       "<table border=\"1\" class=\"dataframe\">\n",
       "  <thead>\n",
       "    <tr style=\"text-align: right;\">\n",
       "      <th></th>\n",
       "      <th>Name</th>\n",
       "      <th>Age</th>\n",
       "      <th>Sex</th>\n",
       "      <th>category</th>\n",
       "      <th>NetWorth(cr)</th>\n",
       "    </tr>\n",
       "  </thead>\n",
       "  <tbody>\n",
       "    <tr>\n",
       "      <th>1</th>\n",
       "      <td>Dhanush</td>\n",
       "      <td>25</td>\n",
       "      <td>Male</td>\n",
       "      <td>Minor</td>\n",
       "      <td>100</td>\n",
       "    </tr>\n",
       "    <tr>\n",
       "      <th>2</th>\n",
       "      <td>Rohan</td>\n",
       "      <td>20</td>\n",
       "      <td>Male</td>\n",
       "      <td>Above-Aged</td>\n",
       "      <td>200</td>\n",
       "    </tr>\n",
       "    <tr>\n",
       "      <th>3</th>\n",
       "      <td>Riya</td>\n",
       "      <td>32</td>\n",
       "      <td>Female</td>\n",
       "      <td>Above-Aged</td>\n",
       "      <td>450</td>\n",
       "    </tr>\n",
       "    <tr>\n",
       "      <th>4</th>\n",
       "      <td>Virat</td>\n",
       "      <td>30</td>\n",
       "      <td>Male</td>\n",
       "      <td>Middle</td>\n",
       "      <td>150</td>\n",
       "    </tr>\n",
       "    <tr>\n",
       "      <th>5</th>\n",
       "      <td>Sonam</td>\n",
       "      <td>40</td>\n",
       "      <td>Female</td>\n",
       "      <td>Above-Aged</td>\n",
       "      <td>650</td>\n",
       "    </tr>\n",
       "  </tbody>\n",
       "</table>\n",
       "</div>"
      ],
      "text/plain": [
       "      Name  Age     Sex    category NetWorth(cr)\n",
       "1  Dhanush   25    Male       Minor          100\n",
       "2    Rohan   20    Male  Above-Aged          200\n",
       "3     Riya   32  Female  Above-Aged          450\n",
       "4    Virat   30    Male      Middle          150\n",
       "5    Sonam   40  Female  Above-Aged          650"
      ]
     },
     "execution_count": 12,
     "metadata": {},
     "output_type": "execute_result"
    }
   ],
   "source": [
    "df['NetWorth(cr)']=['100','200','450','150','650','500']\n",
    "df.head()"
   ]
  },
  {
   "cell_type": "code",
   "execution_count": 27,
   "id": "1fa2318c",
   "metadata": {},
   "outputs": [],
   "source": [
    "df['Status'] = pd.cut(df['Age'], bins=[20, 25, 30, 32, 40, 50], \n",
    "                      labels=['Overachiever', 'Goodachiever', 'Greatachiever', 'Superachiever', 'Ultrachiever'], \n",
    "                      right=False)\n"
   ]
  },
  {
   "cell_type": "code",
   "execution_count": 28,
   "id": "623fc44f",
   "metadata": {},
   "outputs": [
    {
     "data": {
      "text/html": [
       "<div>\n",
       "<style scoped>\n",
       "    .dataframe tbody tr th:only-of-type {\n",
       "        vertical-align: middle;\n",
       "    }\n",
       "\n",
       "    .dataframe tbody tr th {\n",
       "        vertical-align: top;\n",
       "    }\n",
       "\n",
       "    .dataframe thead th {\n",
       "        text-align: right;\n",
       "    }\n",
       "</style>\n",
       "<table border=\"1\" class=\"dataframe\">\n",
       "  <thead>\n",
       "    <tr style=\"text-align: right;\">\n",
       "      <th></th>\n",
       "      <th>Name</th>\n",
       "      <th>Age</th>\n",
       "      <th>Sex</th>\n",
       "      <th>category</th>\n",
       "      <th>NetWorth(cr)</th>\n",
       "      <th>Status</th>\n",
       "    </tr>\n",
       "  </thead>\n",
       "  <tbody>\n",
       "    <tr>\n",
       "      <th>1</th>\n",
       "      <td>Dhanush</td>\n",
       "      <td>25</td>\n",
       "      <td>Male</td>\n",
       "      <td>Minor</td>\n",
       "      <td>100</td>\n",
       "      <td>Goodachiever</td>\n",
       "    </tr>\n",
       "    <tr>\n",
       "      <th>2</th>\n",
       "      <td>Rohan</td>\n",
       "      <td>20</td>\n",
       "      <td>Male</td>\n",
       "      <td>Above-Aged</td>\n",
       "      <td>200</td>\n",
       "      <td>Overachiever</td>\n",
       "    </tr>\n",
       "    <tr>\n",
       "      <th>3</th>\n",
       "      <td>Riya</td>\n",
       "      <td>32</td>\n",
       "      <td>Female</td>\n",
       "      <td>Above-Aged</td>\n",
       "      <td>450</td>\n",
       "      <td>Superachiever</td>\n",
       "    </tr>\n",
       "    <tr>\n",
       "      <th>4</th>\n",
       "      <td>Virat</td>\n",
       "      <td>30</td>\n",
       "      <td>Male</td>\n",
       "      <td>Middle</td>\n",
       "      <td>150</td>\n",
       "      <td>Greatachiever</td>\n",
       "    </tr>\n",
       "    <tr>\n",
       "      <th>5</th>\n",
       "      <td>Sonam</td>\n",
       "      <td>40</td>\n",
       "      <td>Female</td>\n",
       "      <td>Above-Aged</td>\n",
       "      <td>650</td>\n",
       "      <td>Ultrachiever</td>\n",
       "    </tr>\n",
       "  </tbody>\n",
       "</table>\n",
       "</div>"
      ],
      "text/plain": [
       "      Name  Age     Sex    category NetWorth(cr)         Status\n",
       "1  Dhanush   25    Male       Minor          100   Goodachiever\n",
       "2    Rohan   20    Male  Above-Aged          200   Overachiever\n",
       "3     Riya   32  Female  Above-Aged          450  Superachiever\n",
       "4    Virat   30    Male      Middle          150  Greatachiever\n",
       "5    Sonam   40  Female  Above-Aged          650   Ultrachiever"
      ]
     },
     "execution_count": 28,
     "metadata": {},
     "output_type": "execute_result"
    }
   ],
   "source": [
    "df.head()"
   ]
  },
  {
   "cell_type": "code",
   "execution_count": null,
   "id": "692358e8",
   "metadata": {},
   "outputs": [],
   "source": []
  }
 ],
 "metadata": {
  "kernelspec": {
   "display_name": "Python 3 (ipykernel)",
   "language": "python",
   "name": "python3"
  },
  "language_info": {
   "codemirror_mode": {
    "name": "ipython",
    "version": 3
   },
   "file_extension": ".py",
   "mimetype": "text/x-python",
   "name": "python",
   "nbconvert_exporter": "python",
   "pygments_lexer": "ipython3",
   "version": "3.8.10"
  }
 },
 "nbformat": 4,
 "nbformat_minor": 5
}
